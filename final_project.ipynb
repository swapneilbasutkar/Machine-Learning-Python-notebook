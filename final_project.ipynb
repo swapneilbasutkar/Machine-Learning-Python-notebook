{
 "cells": [
  {
   "cell_type": "code",
   "execution_count": null,
   "metadata": {},
   "outputs": [],
   "source": [
    "import pandas as pd\n",
    "import seaborn as sns\n",
    "import matplotlib.pyplot as plt\n",
    "from sklearn.model_selection import train_test_split\n",
    "from sklearn.ensemble import RandomForestClassifier\n",
    "from sklearn.metrics import accuracy_score, classification_report\n",
    "\n",
    "df1 = pd.read_csv('Datasets\\\\ALLFLOWMETER_HIKARI2021.csv')\n",
    "df2 = pd.read_csv('Datasets\\\\ALLFLOWMETER_HIKARI2022.csv')\n",
    "\n",
    "#df1.drop('bwd_last_window_size', axis=1)\n",
    "\n",
    "# Combining two IDS datasets acquired over 2 years to develop good model\n",
    "combined_df = pd.concat([df1, df2], ignore_index=True)\n",
    "\n",
    "# we remove the 'flow_duration' here too because it has no real impact on the analysis and the formats are very different from same\n",
    "# synthetic dataset reproduced as shown in paper.\n",
    "combined_df = combined_df.drop(['Unnamed: 0', 'uid', 'flow_duration','bwd_last_window_size'], axis=1)\n",
    "\n",
    "combined_df['attack_category'] = combined_df['attack_category'].str.strip()\n",
    "# Replacing similar values with correct version\n",
    "combined_df['attack_category']=combined_df['attack_category'].replace('Brutefoce', 'Bruteforce')\n",
    "\n",
    "attack_category_counts = combined_df['attack_category'].value_counts()\n",
    "print(\"Attack categories:\",attack_category_counts)\n",
    "\n",
    "y = combined_df['Label']\n",
    "\n",
    "X = combined_df.drop(['Label', 'originh', 'responh'], axis=1)\n",
    "\n",
    "X_train, X_valid, y_train, y_valid = train_test_split(X, y, test_size=0.2, random_state=0)\n",
    "\n",
    "# Names of columns with missing values\n",
    "cols_with_missing_values = [col for col in X_train.columns\n",
    "                            if X_train[col].isnull().any()]\n",
    "\n",
    "print(\"Columns with missings values:\",cols_with_missing_values)\n",
    "# With prelimnary analysis we found that there were no missing values in any \n",
    "# of the columns. Hence, it is a robust dataset.\n",
    "\n",
    "#getting list of categorical variables\n",
    "s = (X_train.dtypes == 'object')\n",
    "object_cols = list(s[s].index)\n",
    "print(\"Categorical variables\")\n",
    "print(object_cols)\n",
    "\n"
   ]
  }
 ],
 "metadata": {
  "language_info": {
   "name": "python"
  }
 },
 "nbformat": 4,
 "nbformat_minor": 2
}
