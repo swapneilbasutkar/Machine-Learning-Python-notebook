{
 "cells": [
  {
   "cell_type": "code",
   "execution_count": 6,
   "metadata": {},
   "outputs": [
    {
     "name": "stdout",
     "output_type": "stream",
     "text": [
      "MAE from Approach 1 (Drop columns with missing values): \n",
      "183550.22137772635\n",
      "MAE from Approach 2 (Imputation):\n",
      "179816.89508731329\n",
      "MAE from Approach 3 (An extension to Imputation): \n",
      "178927.503183954\n"
     ]
    }
   ],
   "source": [
    "import pandas as pd\n",
    "from sklearn.model_selection import train_test_split\n",
    "from sklearn.ensemble import RandomForestRegressor\n",
    "from sklearn.metrics import mean_absolute_error\n",
    "from sklearn.impute import SimpleImputer\n",
    "\n",
    "data = pd.read_csv('Datasets\\\\melb_data.csv')\n",
    "\n",
    "#select target\n",
    "y = data.Price\n",
    "\n",
    "#using only numerical predictors\n",
    "melbourne_predictors = data.drop(['Price'], axis=1)\n",
    "X = melbourne_predictors.select_dtypes(exclude=['object'])\n",
    "\n",
    "X_train, X_val, y_train, y_val = train_test_split(X, y, train_size=0.8, test_size=0.2, random_state=0)\n",
    "\n",
    "def score_dataset(X_train, X_val, y_train, y_val):\n",
    "    model = RandomForestRegressor(n_estimators=10, random_state=0)\n",
    "    model.fit(X_train, y_train)\n",
    "    preds = model.predict(X_val)\n",
    "    return mean_absolute_error(y_val, preds)\n",
    "\n",
    "#score from Approach 1 (Drop columns with missing values)\n",
    "\n",
    "#Get names of columns with missing values\n",
    "cols_with_missing_vals = [col for col in X_train.columns\n",
    "                          if X_train[col].isnull().any()]\n",
    "\n",
    "#dropping columns in training and validation data\n",
    "reduced_X_train = X_train.drop(cols_with_missing_vals, axis=1)\n",
    "reduced_X_validation = X_val.drop(cols_with_missing_vals, axis=1)\n",
    "\n",
    "print(\"MAE from Approach 1 (Drop columns with missing values): \")\n",
    "print(score_dataset(reduced_X_train, reduced_X_validation, y_train, y_val))\n",
    "\n",
    "#Score from Approach 2 (Imputation)\n",
    "\n",
    "my_imputer = SimpleImputer()\n",
    "\n",
    "imputed_X_train = pd.DataFrame(my_imputer.fit_transform(X_train))\n",
    "imputed_X_val = pd.DataFrame(my_imputer.fit_transform(X_val))\n",
    "\n",
    "#Imputations removed column names so we add them back\n",
    "imputed_X_train.columns = X_train.columns\n",
    "imputed_X_val.columns = X_val.columns\n",
    "\n",
    "print(\"MAE from Approach 2 (Imputation):\")\n",
    "print(score_dataset(imputed_X_train, imputed_X_val, y_train, y_val))\n",
    "\n",
    "#Making a copy to avoid changing orignal data when imputing\n",
    "X_train_plus = X_train.copy()\n",
    "X_val_plus = X_val.copy()\n",
    "\n",
    "#New columns indicating what will be imputed\n",
    "for col in cols_with_missing_vals:\n",
    "    X_train_plus[col+'_was_missing'] = X_train_plus[col].isnull()\n",
    "    X_val_plus[col+'_was_missing'] = X_val_plus[col].isnull()\n",
    "\n",
    "\n",
    "my_imputer = SimpleImputer()\n",
    "imputed_X_train_plus = pd.DataFrame(my_imputer.fit_transform(X_train_plus))\n",
    "imputed_X_val_plus = pd.DataFrame(my_imputer.transform(X_val_plus))\n",
    "\n",
    "imputed_X_train_plus.columns = X_train_plus.columns\n",
    "imputed_X_val_plus.columns = X_val_plus.columns\n",
    "\n",
    "print(\"MAE from Approach 3 (An extension to Imputation): \")\n",
    "print(score_dataset(imputed_X_train_plus, imputed_X_val_plus, y_train, y_val))\n",
    "\n"
   ]
  },
  {
   "cell_type": "code",
   "execution_count": null,
   "metadata": {},
   "outputs": [],
   "source": []
  }
 ],
 "metadata": {
  "kernelspec": {
   "display_name": "Python 3",
   "language": "python",
   "name": "python3"
  },
  "language_info": {
   "codemirror_mode": {
    "name": "ipython",
    "version": 3
   },
   "file_extension": ".py",
   "mimetype": "text/x-python",
   "name": "python",
   "nbconvert_exporter": "python",
   "pygments_lexer": "ipython3",
   "version": "3.12.1"
  }
 },
 "nbformat": 4,
 "nbformat_minor": 2
}
